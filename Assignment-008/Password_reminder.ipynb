{
 "metadata": {
  "language_info": {
   "codemirror_mode": {
    "name": "ipython",
    "version": 3
   },
   "file_extension": ".py",
   "mimetype": "text/x-python",
   "name": "python",
   "nbconvert_exporter": "python",
   "pygments_lexer": "ipython3",
   "version": "3.8.3-final"
  },
  "orig_nbformat": 2,
  "kernelspec": {
   "name": "python383jvsc74a57bd03a93997784c935b3f01901c71333f0ba023a370a2057e5b65fd568291dadd8c7",
   "display_name": "Python 3.8.3 32-bit"
  },
  "metadata": {
   "interpreter": {
    "hash": "3a93997784c935b3f01901c71333f0ba023a370a2057e5b65fd568291dadd8c7"
   }
  }
 },
 "nbformat": 4,
 "nbformat_minor": 2,
 "cells": [
  {
   "cell_type": "code",
   "execution_count": 27,
   "metadata": {},
   "outputs": [
    {
     "output_type": "stream",
     "name": "stdout",
     "text": [
      "Hello, Mesut! The password is : W@12\n"
     ]
    }
   ],
   "source": [
    "my_name = \"Mesut\"\n",
    "\n",
    "i = 0\n",
    "while i<len(my_name): #istenilen ismin uzunluğu kadar döndürmek için bu şekilde yazdım\n",
    "    user_name = str(input(\"Plesase enter your name :\"))\n",
    "\n",
    "    if user_name.title().strip() == my_name.title().strip():\n",
    "        print(\"Hello, Mesut! The password is : W@12\")\n",
    "        break\n",
    "\n",
    "    else:\n",
    "        print(f\"Hello, {user_name}! .Entered name is wrong, Please enter your name again...\")\n",
    "        i+=1\n",
    "\n",
    "     \n"
   ]
  },
  {
   "cell_type": "code",
   "execution_count": null,
   "metadata": {},
   "outputs": [],
   "source": []
  }
 ]
}